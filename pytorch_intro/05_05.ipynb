{
  "nbformat": 4,
  "nbformat_minor": 0,
  "metadata": {
    "colab": {
      "provenance": [],
      "authorship_tag": "ABX9TyPqcW0irezeVeGlmm+TKP98",
      "include_colab_link": true
    },
    "kernelspec": {
      "name": "python3",
      "display_name": "Python 3"
    },
    "language_info": {
      "name": "python"
    }
  },
  "cells": [
    {
      "cell_type": "markdown",
      "metadata": {
        "id": "view-in-github",
        "colab_type": "text"
      },
      "source": [
        "<a href=\"https://colab.research.google.com/github/dmitri-top/Introduction-to-3D-Game-Programming-With-DirectX11/blob/master/pytorch_intro/05_05.ipynb\" target=\"_parent\"><img src=\"https://colab.research.google.com/assets/colab-badge.svg\" alt=\"Open In Colab\"/></a>"
      ]
    },
    {
      "cell_type": "code",
      "execution_count": null,
      "metadata": {
        "colab": {
          "base_uri": "https://localhost:8080/"
        },
        "id": "lBKDEbb2h7C8",
        "outputId": "3f84ca8a-442b-454c-d790-cadd8cb3a7df"
      },
      "outputs": [
        {
          "output_type": "stream",
          "name": "stdout",
          "text": [
            "Files already downloaded and verified\n",
            "Files already downloaded and verified\n"
          ]
        }
      ],
      "source": [
        "from torchvision import transforms\n",
        "from torch.utils.data import DataLoader\n",
        "from torchvision.datasets import CIFAR10\n",
        "train_data_path = \"./train\"\n",
        "test_data_path = \"./test\"\n",
        "train_transforms = transforms.Compose([\n",
        "  transforms.Resize(64),\n",
        "  transforms.ToTensor(),\n",
        "  transforms.Normalize(\n",
        "      mean=(0.4914, 0.4822, 0.4465),\n",
        "      std=(0.2023, 0.1994, 0.2010))\n",
        "])\n",
        "\n",
        "training_data = CIFAR10(train_data_path,\n",
        "                     train=True,\n",
        "                     download=True,\n",
        "                    transform=train_transforms)\n",
        "\n",
        "test_transforms = transforms.Compose([\n",
        "  transforms.ToTensor(),\n",
        "  transforms.Normalize(\n",
        "      mean=(0.4914, 0.4822, 0.4465),\n",
        "      std=(0.2023, 0.1994, 0.2010))\n",
        "])\n",
        "\n",
        "test_data = CIFAR10(test_data_path,\n",
        "                     train=False,\n",
        "                     download=True,\n",
        "                     transform=test_transforms)\n",
        "\n",
        "batch_size = 16\n",
        "training_data_loader = DataLoader(training_data, batch_size = batch_size, shuffle=True)\n",
        "test_data_loader = DataLoader(test_data, batch_size, shuffle=False)\n",
        "\n"
      ]
    }
  ]
}